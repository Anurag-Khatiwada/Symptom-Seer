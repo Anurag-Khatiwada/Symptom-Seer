{
 "cells": [
  {
   "cell_type": "code",
   "execution_count": 1,
   "id": "9768c208",
   "metadata": {},
   "outputs": [],
   "source": [
    "import pandas as pd\n",
    "import numpy as np\n",
    "import matplotlib.pyplot as plt"
   ]
  },
  {
   "cell_type": "code",
   "execution_count": 2,
   "id": "28030a5c",
   "metadata": {},
   "outputs": [
    {
     "data": {
      "text/html": [
       "<div>\n",
       "<style scoped>\n",
       "    .dataframe tbody tr th:only-of-type {\n",
       "        vertical-align: middle;\n",
       "    }\n",
       "\n",
       "    .dataframe tbody tr th {\n",
       "        vertical-align: top;\n",
       "    }\n",
       "\n",
       "    .dataframe thead th {\n",
       "        text-align: right;\n",
       "    }\n",
       "</style>\n",
       "<table border=\"1\" class=\"dataframe\">\n",
       "  <thead>\n",
       "    <tr style=\"text-align: right;\">\n",
       "      <th></th>\n",
       "      <th>itching</th>\n",
       "      <th>skin_rash</th>\n",
       "      <th>continuous_sneezing</th>\n",
       "      <th>shivering</th>\n",
       "      <th>chills</th>\n",
       "      <th>joint_pain</th>\n",
       "      <th>acidity</th>\n",
       "      <th>vomiting</th>\n",
       "      <th>fatigue</th>\n",
       "      <th>weight_loss</th>\n",
       "      <th>...</th>\n",
       "      <th>family_history</th>\n",
       "      <th>mucoid_sputum</th>\n",
       "      <th>rusty_sputum</th>\n",
       "      <th>visual_disturbances</th>\n",
       "      <th>blood_in_sputum</th>\n",
       "      <th>painful_walking</th>\n",
       "      <th>pus_filled_pimples</th>\n",
       "      <th>blackheads</th>\n",
       "      <th>scurring</th>\n",
       "      <th>prognosis</th>\n",
       "    </tr>\n",
       "  </thead>\n",
       "  <tbody>\n",
       "    <tr>\n",
       "      <th>177</th>\n",
       "      <td>0</td>\n",
       "      <td>1</td>\n",
       "      <td>0</td>\n",
       "      <td>0</td>\n",
       "      <td>1</td>\n",
       "      <td>1</td>\n",
       "      <td>0</td>\n",
       "      <td>0</td>\n",
       "      <td>1</td>\n",
       "      <td>0</td>\n",
       "      <td>...</td>\n",
       "      <td>0</td>\n",
       "      <td>0</td>\n",
       "      <td>0</td>\n",
       "      <td>0</td>\n",
       "      <td>0</td>\n",
       "      <td>0</td>\n",
       "      <td>0</td>\n",
       "      <td>0</td>\n",
       "      <td>0</td>\n",
       "      <td>Dengue</td>\n",
       "    </tr>\n",
       "    <tr>\n",
       "      <th>4629</th>\n",
       "      <td>0</td>\n",
       "      <td>1</td>\n",
       "      <td>0</td>\n",
       "      <td>0</td>\n",
       "      <td>0</td>\n",
       "      <td>0</td>\n",
       "      <td>0</td>\n",
       "      <td>0</td>\n",
       "      <td>0</td>\n",
       "      <td>0</td>\n",
       "      <td>...</td>\n",
       "      <td>0</td>\n",
       "      <td>0</td>\n",
       "      <td>0</td>\n",
       "      <td>0</td>\n",
       "      <td>0</td>\n",
       "      <td>0</td>\n",
       "      <td>1</td>\n",
       "      <td>1</td>\n",
       "      <td>1</td>\n",
       "      <td>Acne</td>\n",
       "    </tr>\n",
       "    <tr>\n",
       "      <th>939</th>\n",
       "      <td>0</td>\n",
       "      <td>0</td>\n",
       "      <td>0</td>\n",
       "      <td>0</td>\n",
       "      <td>0</td>\n",
       "      <td>0</td>\n",
       "      <td>1</td>\n",
       "      <td>0</td>\n",
       "      <td>0</td>\n",
       "      <td>0</td>\n",
       "      <td>...</td>\n",
       "      <td>0</td>\n",
       "      <td>0</td>\n",
       "      <td>0</td>\n",
       "      <td>0</td>\n",
       "      <td>0</td>\n",
       "      <td>0</td>\n",
       "      <td>0</td>\n",
       "      <td>0</td>\n",
       "      <td>0</td>\n",
       "      <td>Migraine</td>\n",
       "    </tr>\n",
       "    <tr>\n",
       "      <th>684</th>\n",
       "      <td>0</td>\n",
       "      <td>0</td>\n",
       "      <td>0</td>\n",
       "      <td>0</td>\n",
       "      <td>1</td>\n",
       "      <td>0</td>\n",
       "      <td>0</td>\n",
       "      <td>0</td>\n",
       "      <td>0</td>\n",
       "      <td>0</td>\n",
       "      <td>...</td>\n",
       "      <td>0</td>\n",
       "      <td>0</td>\n",
       "      <td>1</td>\n",
       "      <td>0</td>\n",
       "      <td>0</td>\n",
       "      <td>0</td>\n",
       "      <td>0</td>\n",
       "      <td>0</td>\n",
       "      <td>0</td>\n",
       "      <td>Pneumonia</td>\n",
       "    </tr>\n",
       "    <tr>\n",
       "      <th>4535</th>\n",
       "      <td>0</td>\n",
       "      <td>0</td>\n",
       "      <td>0</td>\n",
       "      <td>0</td>\n",
       "      <td>1</td>\n",
       "      <td>0</td>\n",
       "      <td>0</td>\n",
       "      <td>1</td>\n",
       "      <td>1</td>\n",
       "      <td>1</td>\n",
       "      <td>...</td>\n",
       "      <td>0</td>\n",
       "      <td>0</td>\n",
       "      <td>0</td>\n",
       "      <td>0</td>\n",
       "      <td>1</td>\n",
       "      <td>0</td>\n",
       "      <td>0</td>\n",
       "      <td>0</td>\n",
       "      <td>0</td>\n",
       "      <td>Tuberculosis</td>\n",
       "    </tr>\n",
       "  </tbody>\n",
       "</table>\n",
       "<p>5 rows × 73 columns</p>\n",
       "</div>"
      ],
      "text/plain": [
       "      itching  skin_rash  continuous_sneezing  shivering  chills  joint_pain  \\\n",
       "177         0          1                    0          0       1           1   \n",
       "4629        0          1                    0          0       0           0   \n",
       "939         0          0                    0          0       0           0   \n",
       "684         0          0                    0          0       1           0   \n",
       "4535        0          0                    0          0       1           0   \n",
       "\n",
       "      acidity  vomiting  fatigue  weight_loss  ...  family_history  \\\n",
       "177         0         0        1            0  ...               0   \n",
       "4629        0         0        0            0  ...               0   \n",
       "939         1         0        0            0  ...               0   \n",
       "684         0         0        0            0  ...               0   \n",
       "4535        0         1        1            1  ...               0   \n",
       "\n",
       "      mucoid_sputum  rusty_sputum  visual_disturbances  blood_in_sputum  \\\n",
       "177               0             0                    0                0   \n",
       "4629              0             0                    0                0   \n",
       "939               0             0                    0                0   \n",
       "684               0             1                    0                0   \n",
       "4535              0             0                    0                1   \n",
       "\n",
       "      painful_walking  pus_filled_pimples  blackheads  scurring     prognosis  \n",
       "177                 0                   0           0         0        Dengue  \n",
       "4629                0                   1           1         1          Acne  \n",
       "939                 0                   0           0         0      Migraine  \n",
       "684                 0                   0           0         0     Pneumonia  \n",
       "4535                0                   0           0         0  Tuberculosis  \n",
       "\n",
       "[5 rows x 73 columns]"
      ]
     },
     "execution_count": 2,
     "metadata": {},
     "output_type": "execute_result"
    }
   ],
   "source": [
    "df3 = pd.read_csv(\"Training.csv\", usecols=['pain_behind_the_eyes',\n",
    " 'sunken_eyes',\n",
    " 'movement_stiffness',\n",
    " 'family_history',\n",
    " 'dark_urine',\n",
    " 'continuous_sneezing',\n",
    " 'abdominal_pain',\n",
    " 'redness_of_eyes',\n",
    " 'irritation_in_anus',\n",
    " 'pus_filled_pimples',\n",
    " 'chest_pain',\n",
    " 'vomiting',\n",
    " 'depression',\n",
    " 'polyuria',\n",
    " 'chills',\n",
    " 'constipation',\n",
    " 'dehydration',\n",
    " 'painful_walking',\n",
    " 'restlessness',\n",
    " 'vomiting',\n",
    " 'increased_appetite',\n",
    " 'shivering',\n",
    " 'irritability',\n",
    " 'sweating',\n",
    " 'belly_pain',\n",
    " 'blackheads',\n",
    " 'mild_fever',\n",
    " 'skin_rash',\n",
    " 'high_fever','yellowing_of_eyes',\n",
    " 'headache',\n",
    " 'muscle_weakness',\n",
    " 'throat_irritation',\n",
    " 'weight_loss',\n",
    " 'abdominal_pain',\n",
    " 'visual_disturbances',\n",
    " 'red_spots_over_body',\n",
    " 'fatigue',\n",
    " 'scurring',\n",
    " 'nausea',\n",
    " 'weight_loss',\n",
    " 'yellowish_skin',\n",
    " 'malaise',\n",
    " 'muscle_pain',\n",
    " 'toxic_look_(typhos)',\n",
    " 'swelling_joints',\n",
    " 'excessive_hunger',\n",
    " 'cough',\n",
    " 'lethargy',\n",
    " 'obesity',\n",
    " 'breathlessness',\n",
    " 'irregular_sugar_level',\n",
    " 'mucoid_sputum',\n",
    " 'back_pain',\n",
    " 'indigestion',\n",
    " 'loss_of_smell',\n",
    " 'sinus_pressure',\n",
    " 'congestion',\n",
    " 'bloody_stool',\n",
    " 'nausea',\n",
    " 'swelled_lymph_nodes',\n",
    " 'fast_heart_rate',\n",
    " 'acidity',\n",
    " 'stiff_neck',\n",
    " 'loss_of_appetite',\n",
    " 'rusty_sputum',\n",
    " 'diarrhoea',\n",
    " 'blurred_and_distorted_vision',\n",
    " 'runny_nose',\n",
    " 'pain_in_anal_region',\n",
    " 'phlegm',\n",
    " 'itching',\n",
    " 'pain_during_bowel_movements',\n",
    " 'joint_pain',\n",
    " 'watering_from_eyes',\n",
    " 'blood_in_sputum',\n",
    " 'prognosis'])\n",
    "\n",
    "disease= ['Acne', 'Allergy', 'Common Cold', 'Chicken pox', 'Dengue','Diabetes ', 'Jaundice', 'Malaria', 'Pneumonia', 'Tuberculosis','Typhoid','Gastroenteritis','Migraine','Arthritis','Bronchial Asthma']\n",
    "df_filtered = df3[df3['prognosis'].str.contains('|'.join(disease))]\n",
    "\n",
    "\n",
    "df_filtered.sample(5)\n"
   ]
  },
  {
   "cell_type": "code",
   "execution_count": 3,
   "id": "7984ec84",
   "metadata": {},
   "outputs": [
    {
     "data": {
      "text/plain": [
       "(1800, 73)"
      ]
     },
     "execution_count": 3,
     "metadata": {},
     "output_type": "execute_result"
    }
   ],
   "source": [
    "df_filtered.shape"
   ]
  },
  {
   "cell_type": "code",
   "execution_count": 4,
   "id": "98b338cb",
   "metadata": {},
   "outputs": [],
   "source": [
    "df_sorted_columns = df_filtered.sort_index(axis=1)"
   ]
  },
  {
   "cell_type": "code",
   "execution_count": 5,
   "id": "052b654e",
   "metadata": {},
   "outputs": [
    {
     "data": {
      "text/html": [
       "<div>\n",
       "<style scoped>\n",
       "    .dataframe tbody tr th:only-of-type {\n",
       "        vertical-align: middle;\n",
       "    }\n",
       "\n",
       "    .dataframe tbody tr th {\n",
       "        vertical-align: top;\n",
       "    }\n",
       "\n",
       "    .dataframe thead th {\n",
       "        text-align: right;\n",
       "    }\n",
       "</style>\n",
       "<table border=\"1\" class=\"dataframe\">\n",
       "  <thead>\n",
       "    <tr style=\"text-align: right;\">\n",
       "      <th></th>\n",
       "      <th>abdominal_pain</th>\n",
       "      <th>acidity</th>\n",
       "      <th>back_pain</th>\n",
       "      <th>belly_pain</th>\n",
       "      <th>blackheads</th>\n",
       "      <th>blood_in_sputum</th>\n",
       "      <th>bloody_stool</th>\n",
       "      <th>blurred_and_distorted_vision</th>\n",
       "      <th>breathlessness</th>\n",
       "      <th>chest_pain</th>\n",
       "      <th>...</th>\n",
       "      <th>swelled_lymph_nodes</th>\n",
       "      <th>swelling_joints</th>\n",
       "      <th>throat_irritation</th>\n",
       "      <th>toxic_look_(typhos)</th>\n",
       "      <th>visual_disturbances</th>\n",
       "      <th>vomiting</th>\n",
       "      <th>watering_from_eyes</th>\n",
       "      <th>weight_loss</th>\n",
       "      <th>yellowing_of_eyes</th>\n",
       "      <th>yellowish_skin</th>\n",
       "    </tr>\n",
       "  </thead>\n",
       "  <tbody>\n",
       "    <tr>\n",
       "      <th>10</th>\n",
       "      <td>0</td>\n",
       "      <td>0</td>\n",
       "      <td>0</td>\n",
       "      <td>0</td>\n",
       "      <td>0</td>\n",
       "      <td>0</td>\n",
       "      <td>0</td>\n",
       "      <td>0</td>\n",
       "      <td>0</td>\n",
       "      <td>0</td>\n",
       "      <td>...</td>\n",
       "      <td>0</td>\n",
       "      <td>0</td>\n",
       "      <td>0</td>\n",
       "      <td>0</td>\n",
       "      <td>0</td>\n",
       "      <td>0</td>\n",
       "      <td>1</td>\n",
       "      <td>0</td>\n",
       "      <td>0</td>\n",
       "      <td>0</td>\n",
       "    </tr>\n",
       "    <tr>\n",
       "      <th>11</th>\n",
       "      <td>0</td>\n",
       "      <td>0</td>\n",
       "      <td>0</td>\n",
       "      <td>0</td>\n",
       "      <td>0</td>\n",
       "      <td>0</td>\n",
       "      <td>0</td>\n",
       "      <td>0</td>\n",
       "      <td>0</td>\n",
       "      <td>0</td>\n",
       "      <td>...</td>\n",
       "      <td>0</td>\n",
       "      <td>0</td>\n",
       "      <td>0</td>\n",
       "      <td>0</td>\n",
       "      <td>0</td>\n",
       "      <td>0</td>\n",
       "      <td>1</td>\n",
       "      <td>0</td>\n",
       "      <td>0</td>\n",
       "      <td>0</td>\n",
       "    </tr>\n",
       "    <tr>\n",
       "      <th>12</th>\n",
       "      <td>0</td>\n",
       "      <td>0</td>\n",
       "      <td>0</td>\n",
       "      <td>0</td>\n",
       "      <td>0</td>\n",
       "      <td>0</td>\n",
       "      <td>0</td>\n",
       "      <td>0</td>\n",
       "      <td>0</td>\n",
       "      <td>0</td>\n",
       "      <td>...</td>\n",
       "      <td>0</td>\n",
       "      <td>0</td>\n",
       "      <td>0</td>\n",
       "      <td>0</td>\n",
       "      <td>0</td>\n",
       "      <td>0</td>\n",
       "      <td>1</td>\n",
       "      <td>0</td>\n",
       "      <td>0</td>\n",
       "      <td>0</td>\n",
       "    </tr>\n",
       "    <tr>\n",
       "      <th>13</th>\n",
       "      <td>0</td>\n",
       "      <td>0</td>\n",
       "      <td>0</td>\n",
       "      <td>0</td>\n",
       "      <td>0</td>\n",
       "      <td>0</td>\n",
       "      <td>0</td>\n",
       "      <td>0</td>\n",
       "      <td>0</td>\n",
       "      <td>0</td>\n",
       "      <td>...</td>\n",
       "      <td>0</td>\n",
       "      <td>0</td>\n",
       "      <td>0</td>\n",
       "      <td>0</td>\n",
       "      <td>0</td>\n",
       "      <td>0</td>\n",
       "      <td>1</td>\n",
       "      <td>0</td>\n",
       "      <td>0</td>\n",
       "      <td>0</td>\n",
       "    </tr>\n",
       "    <tr>\n",
       "      <th>14</th>\n",
       "      <td>0</td>\n",
       "      <td>0</td>\n",
       "      <td>0</td>\n",
       "      <td>0</td>\n",
       "      <td>0</td>\n",
       "      <td>0</td>\n",
       "      <td>0</td>\n",
       "      <td>0</td>\n",
       "      <td>0</td>\n",
       "      <td>0</td>\n",
       "      <td>...</td>\n",
       "      <td>0</td>\n",
       "      <td>0</td>\n",
       "      <td>0</td>\n",
       "      <td>0</td>\n",
       "      <td>0</td>\n",
       "      <td>0</td>\n",
       "      <td>0</td>\n",
       "      <td>0</td>\n",
       "      <td>0</td>\n",
       "      <td>0</td>\n",
       "    </tr>\n",
       "  </tbody>\n",
       "</table>\n",
       "<p>5 rows × 73 columns</p>\n",
       "</div>"
      ],
      "text/plain": [
       "    abdominal_pain  acidity  back_pain  belly_pain  blackheads  \\\n",
       "10               0        0          0           0           0   \n",
       "11               0        0          0           0           0   \n",
       "12               0        0          0           0           0   \n",
       "13               0        0          0           0           0   \n",
       "14               0        0          0           0           0   \n",
       "\n",
       "    blood_in_sputum  bloody_stool  blurred_and_distorted_vision  \\\n",
       "10                0             0                             0   \n",
       "11                0             0                             0   \n",
       "12                0             0                             0   \n",
       "13                0             0                             0   \n",
       "14                0             0                             0   \n",
       "\n",
       "    breathlessness  chest_pain  ...  swelled_lymph_nodes  swelling_joints  \\\n",
       "10               0           0  ...                    0                0   \n",
       "11               0           0  ...                    0                0   \n",
       "12               0           0  ...                    0                0   \n",
       "13               0           0  ...                    0                0   \n",
       "14               0           0  ...                    0                0   \n",
       "\n",
       "    throat_irritation  toxic_look_(typhos)  visual_disturbances  vomiting  \\\n",
       "10                  0                    0                    0         0   \n",
       "11                  0                    0                    0         0   \n",
       "12                  0                    0                    0         0   \n",
       "13                  0                    0                    0         0   \n",
       "14                  0                    0                    0         0   \n",
       "\n",
       "    watering_from_eyes  weight_loss  yellowing_of_eyes  yellowish_skin  \n",
       "10                   1            0                  0               0  \n",
       "11                   1            0                  0               0  \n",
       "12                   1            0                  0               0  \n",
       "13                   1            0                  0               0  \n",
       "14                   0            0                  0               0  \n",
       "\n",
       "[5 rows x 73 columns]"
      ]
     },
     "execution_count": 5,
     "metadata": {},
     "output_type": "execute_result"
    }
   ],
   "source": [
    "df_sorted_columns.head()"
   ]
  },
  {
   "cell_type": "code",
   "execution_count": 6,
   "id": "ed91d2a1",
   "metadata": {},
   "outputs": [
    {
     "data": {
      "text/plain": [
       "prognosis\n",
       "Allergy             120\n",
       "Diabetes            120\n",
       "Gastroenteritis     120\n",
       "Bronchial Asthma    120\n",
       "Migraine            120\n",
       "Jaundice            120\n",
       "Malaria             120\n",
       "Chicken pox         120\n",
       "Dengue              120\n",
       "Typhoid             120\n",
       "Tuberculosis        120\n",
       "Common Cold         120\n",
       "Pneumonia           120\n",
       "Arthritis           120\n",
       "Acne                120\n",
       "Name: count, dtype: int64"
      ]
     },
     "execution_count": 6,
     "metadata": {},
     "output_type": "execute_result"
    }
   ],
   "source": [
    "df_sorted_columns['prognosis'].value_counts()"
   ]
  },
  {
   "cell_type": "code",
   "execution_count": 7,
   "id": "e1ac947f",
   "metadata": {},
   "outputs": [],
   "source": [
    "disease= ['Acne', 'Allergy', 'Common Cold', 'Chicken pox', 'Dengue','Diabetes ', 'Jaundice', 'Malaria', 'Pneumonia', 'Tuberculosis','Typhoid','Gastroenteritis','Migraine','Arthritis','Bronchial Asthma']"
   ]
  },
  {
   "cell_type": "code",
   "execution_count": 8,
   "id": "68883c51",
   "metadata": {},
   "outputs": [],
   "source": [
    "X= df_sorted_columns.drop(columns=['prognosis'])\n"
   ]
  },
  {
   "cell_type": "code",
   "execution_count": 9,
   "id": "e2128dd2",
   "metadata": {},
   "outputs": [],
   "source": [
    "y= df_sorted_columns['prognosis']"
   ]
  },
  {
   "cell_type": "code",
   "execution_count": 10,
   "id": "b4b48d25",
   "metadata": {},
   "outputs": [],
   "source": [
    "# train test split\n",
    "from sklearn.model_selection import train_test_split\n",
    "# label encoder\n",
    "from sklearn.preprocessing import LabelEncoder\n",
    "le = LabelEncoder()\n",
    "y = le.fit_transform(y)\n",
    "X_train, X_test, y_train, y_test = train_test_split(X, y, test_size=0.2, random_state=42)"
   ]
  },
  {
   "cell_type": "code",
   "execution_count": 11,
   "id": "ed14ea3a",
   "metadata": {},
   "outputs": [
    {
     "data": {
      "text/plain": [
       "1.0"
      ]
     },
     "execution_count": 11,
     "metadata": {},
     "output_type": "execute_result"
    }
   ],
   "source": [
    "#decision tree classifier\n",
    "from sklearn.tree import DecisionTreeClassifier\n",
    "dtc = DecisionTreeClassifier()\n",
    "dtc.fit(X_train, y_train)\n",
    "dtc.score(X_test, y_test)"
   ]
  },
  {
   "cell_type": "code",
   "execution_count": null,
   "id": "00fd0fcd",
   "metadata": {},
   "outputs": [],
   "source": []
  },
  {
   "cell_type": "code",
   "execution_count": 12,
   "id": "b5b742a9",
   "metadata": {},
   "outputs": [],
   "source": [
    "cols=list(df_sorted_columns.columns)\n",
    "cols.remove('prognosis')\n"
   ]
  },
  {
   "cell_type": "code",
   "execution_count": 13,
   "id": "5a2f1dcd",
   "metadata": {},
   "outputs": [
    {
     "data": {
      "text/plain": [
       "72"
      ]
     },
     "execution_count": 13,
     "metadata": {},
     "output_type": "execute_result"
    }
   ],
   "source": [
    "len(cols)\n"
   ]
  },
  {
   "cell_type": "code",
   "execution_count": 14,
   "id": "dbc06c30",
   "metadata": {},
   "outputs": [
    {
     "name": "stdout",
     "output_type": "stream",
     "text": [
      "Enter the symptoms: skin_rash\n",
      "Enter the symptoms: back_pain\n",
      "Enter the symptoms: joint_pain\n",
      "Enter the symptoms: nausea\n",
      "Enter the symptoms: stop\n"
     ]
    }
   ],
   "source": [
    "symp_name = []\n",
    "while True:\n",
    "    n = input('Enter the symptoms: ')\n",
    "    if n == 'stop':\n",
    "        break\n",
    "    symp_name.append(n)\n",
    "dis = [1 if i in symp_name else 0 for i in cols]\n",
    "dis = np.array(dis).reshape(1, -1)"
   ]
  },
  {
   "cell_type": "code",
   "execution_count": 15,
   "id": "04fe1e32",
   "metadata": {},
   "outputs": [
    {
     "data": {
      "text/plain": [
       "1"
      ]
     },
     "execution_count": 15,
     "metadata": {},
     "output_type": "execute_result"
    }
   ],
   "source": [
    "\n",
    "len(dis) \n"
   ]
  },
  {
   "cell_type": "code",
   "execution_count": 16,
   "id": "6dd323a3",
   "metadata": {},
   "outputs": [
    {
     "name": "stdout",
     "output_type": "stream",
     "text": [
      "Predicted disease: Dengue\n"
     ]
    },
    {
     "name": "stderr",
     "output_type": "stream",
     "text": [
      "D:\\Anaconda\\Lib\\site-packages\\sklearn\\base.py:464: UserWarning: X does not have valid feature names, but DecisionTreeClassifier was fitted with feature names\n",
      "  warnings.warn(\n"
     ]
    }
   ],
   "source": [
    "predicted_dtc = dtc.predict(dis)\n",
    "predicted_disease = le.inverse_transform(predicted_dtc)\n",
    "print(\"Predicted disease:\", predicted_disease[0])"
   ]
  },
  {
   "cell_type": "code",
   "execution_count": 17,
   "id": "7338b30a",
   "metadata": {},
   "outputs": [],
   "source": []
  },
  {
   "cell_type": "code",
   "execution_count": 18,
   "id": "c0c7c4ba",
   "metadata": {},
   "outputs": [
    {
     "data": {
      "text/html": [
       "<div>\n",
       "<style scoped>\n",
       "    .dataframe tbody tr th:only-of-type {\n",
       "        vertical-align: middle;\n",
       "    }\n",
       "\n",
       "    .dataframe tbody tr th {\n",
       "        vertical-align: top;\n",
       "    }\n",
       "\n",
       "    .dataframe thead th {\n",
       "        text-align: right;\n",
       "    }\n",
       "</style>\n",
       "<table border=\"1\" class=\"dataframe\">\n",
       "  <thead>\n",
       "    <tr style=\"text-align: right;\">\n",
       "      <th></th>\n",
       "      <th>symptoms</th>\n",
       "      <th>severity</th>\n",
       "    </tr>\n",
       "  </thead>\n",
       "  <tbody>\n",
       "    <tr>\n",
       "      <th>0</th>\n",
       "      <td>skin_rash</td>\n",
       "      <td>3</td>\n",
       "    </tr>\n",
       "    <tr>\n",
       "      <th>1</th>\n",
       "      <td>nodal_skin_eruptions</td>\n",
       "      <td>4</td>\n",
       "    </tr>\n",
       "    <tr>\n",
       "      <th>2</th>\n",
       "      <td>continuous_sneezing</td>\n",
       "      <td>4</td>\n",
       "    </tr>\n",
       "    <tr>\n",
       "      <th>3</th>\n",
       "      <td>shivering</td>\n",
       "      <td>5</td>\n",
       "    </tr>\n",
       "    <tr>\n",
       "      <th>4</th>\n",
       "      <td>chills</td>\n",
       "      <td>3</td>\n",
       "    </tr>\n",
       "  </tbody>\n",
       "</table>\n",
       "</div>"
      ],
      "text/plain": [
       "               symptoms  severity\n",
       "0             skin_rash         3\n",
       "1  nodal_skin_eruptions         4\n",
       "2   continuous_sneezing         4\n",
       "3             shivering         5\n",
       "4                chills         3"
      ]
     },
     "execution_count": 18,
     "metadata": {},
     "output_type": "execute_result"
    }
   ],
   "source": []
  },
  {
   "cell_type": "code",
   "execution_count": 19,
   "id": "ff050ff8",
   "metadata": {},
   "outputs": [
    {
     "name": "stdout",
     "output_type": "stream",
     "text": [
      "14\n"
     ]
    }
   ],
   "source": []
  },
  {
   "cell_type": "code",
   "execution_count": 20,
   "id": "4612dd9f",
   "metadata": {},
   "outputs": [
    {
     "name": "stdout",
     "output_type": "stream",
     "text": [
      "moderate\n"
     ]
    }
   ],
   "source": []
  },
  {
   "cell_type": "code",
   "execution_count": 21,
   "id": "c31d338a",
   "metadata": {},
   "outputs": [
    {
     "data": {
      "text/plain": [
       "4"
      ]
     },
     "execution_count": 21,
     "metadata": {},
     "output_type": "execute_result"
    }
   ],
   "source": [
    "len(symp_name)"
   ]
  },
  {
   "cell_type": "code",
   "execution_count": null,
   "id": "d4cda61d",
   "metadata": {},
   "outputs": [],
   "source": []
  }
 ],
 "metadata": {
  "kernelspec": {
   "display_name": "Python 3 (ipykernel)",
   "language": "python",
   "name": "python3"
  },
  "language_info": {
   "codemirror_mode": {
    "name": "ipython",
    "version": 3
   },
   "file_extension": ".py",
   "mimetype": "text/x-python",
   "name": "python",
   "nbconvert_exporter": "python",
   "pygments_lexer": "ipython3",
   "version": "3.11.5"
  }
 },
 "nbformat": 4,
 "nbformat_minor": 5
}
